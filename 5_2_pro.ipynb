{
  "nbformat": 4,
  "nbformat_minor": 0,
  "metadata": {
    "colab": {
      "provenance": []
    },
    "kernelspec": {
      "name": "python3",
      "display_name": "Python 3"
    },
    "language_info": {
      "name": "python"
    }
  },
  "cells": [
    {
      "cell_type": "markdown",
      "metadata": {
        "id": "3hahJ-ONkfmR"
      },
      "source": [
        "Дорогой студент!\n",
        "\n",
        "В данном домашнем задании предоставляется возможность поработать с задачей по распознаванию позитивных и негативных отзывы людей по автомобилю Tesla. База для обучения содержит два текстовых файла с рядом строчных отзывов с мнением людей об автомобиле Tesla, соответственно негативного и позитивного содержания. Ссылка на скачивание базы уже включена в ноутбук задания.\n",
        "\n",
        "\n",
        "Необходимо выполнить следующие действия:\n",
        "\n",
        "  1. Загрузите саму базу по ссылке и подговьте файлы базы для обработки.\n",
        "  2. Создайте обучающую и проверочную выборки, обратив особое внимание на балансировку базы: количество примеров каждого класса должно быть примерно одного порядка.\n",
        "  3. Подготовьте выборки для обучения и обучите сеть. Добейтесь результата точности сети в 85-90% на проверочной выборке.\n",
        "   \n"
      ]
    },
    {
      "cell_type": "markdown",
      "metadata": {
        "id": "PUN4KxIPuUmM"
      },
      "source": [
        "**Импорт библиотек, загрузка базы и подготовка её к предобработке.**"
      ]
    },
    {
      "cell_type": "code",
      "source": [
        "# Работа с массивами данных\n",
        "import numpy as np \n",
        "\n",
        "# Работа с таблицами\n",
        "import pandas as pd\n",
        "\n",
        "# Отрисовка графиков\n",
        "import matplotlib.pyplot as plt\n",
        "\n",
        "# Функции-утилиты для работы с категориальными данными\n",
        "from tensorflow.keras import utils\n",
        "\n",
        "# Класс для конструирования последовательной модели нейронной сети\n",
        "from tensorflow.keras.models import Sequential\n",
        "\n",
        "# Основные слои\n",
        "from tensorflow.keras.layers import Dense, Dropout, SpatialDropout1D, BatchNormalization, Embedding, Flatten, Activation \n",
        "from tensorflow.keras.layers import SimpleRNN, GRU, LSTM, Bidirectional, Conv1D, MaxPooling1D, GlobalMaxPooling1D\n",
        "\n",
        "# Токенизатор для преобразование текстов в последовательности\n",
        "from tensorflow.keras.preprocessing.text import Tokenizer\n",
        "\n",
        "# Заполнение последовательностей до определенной длины\n",
        "from tensorflow.keras.preprocessing.sequence import pad_sequences\n",
        "\n",
        "# Рисование схемы модели\n",
        "from tensorflow.keras.utils import plot_model\n",
        "\n",
        "# Вывод объектов в ячейке colab\n",
        "from IPython.display import display\n",
        "\n",
        "\n",
        "# Матрица ошибок классификатора\n",
        "from sklearn.metrics import confusion_matrix, ConfusionMatrixDisplay\n",
        "\n",
        "\n",
        "# Загрузка датасетов из облака google\n",
        "import gdown\n",
        "\n",
        "# Для работы с файлами в Colaboratory\n",
        "import os                                                            \n",
        "\n",
        "# Отрисовка графиков\n",
        "import matplotlib.pyplot as plt\n",
        "\n",
        "%matplotlib inline"
      ],
      "metadata": {
        "id": "xOYjMYA5bQD5"
      },
      "execution_count": null,
      "outputs": []
    },
    {
      "cell_type": "code",
      "metadata": {
        "id": "pBys9ajOW43u",
        "colab": {
          "base_uri": "https://localhost:8080/",
          "height": 37
        },
        "outputId": "3e4b143d-0286-4bf1-de07-0c873cbd8a3c"
      },
      "source": [
        "gdown.download('https://storage.yandexcloud.net/aiueducation/Content/base/l7/tesla.zip', None, quiet=True)"
      ],
      "execution_count": null,
      "outputs": [
        {
          "output_type": "execute_result",
          "data": {
            "text/plain": [
              "'tesla.zip'"
            ],
            "application/vnd.google.colaboratory.intrinsic+json": {
              "type": "string"
            }
          },
          "metadata": {},
          "execution_count": 29
        }
      ]
    },
    {
      "cell_type": "markdown",
      "metadata": {
        "id": "Poe5lbs7ulKQ"
      },
      "source": [
        "**Деление общей базы отзывов на данные для обучения и проверки.**"
      ]
    },
    {
      "cell_type": "code",
      "metadata": {
        "id": "bBgC28cgulnc",
        "colab": {
          "base_uri": "https://localhost:8080/"
        },
        "outputId": "da90bc48-56f0-4f4e-8fe8-dd5fa0d5222a"
      },
      "source": [
        "# Распаковка архива в папку writers\n",
        "!unzip -qo tesla.zip -d tesla/\n",
        "\n",
        "# Просмотр содержимого папки\n",
        "!ls tesla"
      ],
      "execution_count": null,
      "outputs": [
        {
          "output_type": "stream",
          "name": "stdout",
          "text": [
            "'Негативный отзыв.txt'\t'Позитивный отзыв.txt'\n"
          ]
        }
      ]
    },
    {
      "cell_type": "markdown",
      "metadata": {
        "id": "o7VsrwF92JDM"
      },
      "source": [
        "**Загрузка текста из файлов, преобразование в одну строку.**"
      ]
    },
    {
      "cell_type": "code",
      "metadata": {
        "id": "tHELyvOvzRBI"
      },
      "source": [
        "# Объявляем функции для чтения файла. На вход отправляем путь к файлу\n",
        "def read_text(file_name):\n",
        "\n",
        "  # Задаем открытие нужного файла в режиме чтения              \n",
        "  read_file = open(file_name, 'r')\n",
        "\n",
        "  # Читаем текст     \n",
        "  text = read_file.read()\n",
        "\n",
        "  # Переносы строки переводим в пробелы              \n",
        "  text = text.replace(\"\\n\", \" \")\n",
        "\n",
        "  # Возвращаем текст файла       \n",
        "  return text                          \n",
        "\n",
        "# Объявляем интересующие нас классы\n",
        "class_names = [\"Негативный отзыв\", \"Позитивный отзыв\"]\n",
        "\n",
        "# Считаем количество классов \n",
        "num_classes = len(class_names)"
      ],
      "execution_count": null,
      "outputs": []
    },
    {
      "cell_type": "markdown",
      "metadata": {
        "id": "ih6e6VfO2o_t"
      },
      "source": [
        "**Тексты в один список.**"
      ]
    },
    {
      "cell_type": "code",
      "metadata": {
        "id": "9w4V4ztFznbG",
        "colab": {
          "base_uri": "https://localhost:8080/"
        },
        "outputId": "689fc4a7-40cf-4499-d007-a56d972cf900"
      },
      "source": [
        "import os\n",
        "# Создаём список под тексты для обучающей выборки\n",
        "texts_list = []\n",
        "\n",
        "# Циклом проводим итерацию по текстовым файлам в папке отзывов\n",
        "for j in os.listdir('/content/tesla/'):\n",
        "\n",
        "  # Добавляем каждый файл в общий список для выборки\n",
        "        texts_list.append(read_text('/content/tesla/' + j))\n",
        "        \n",
        "        # Выводим на экран сообщение о добавлении файла\n",
        "        print(j, 'добавлен в обучающую выборку')"
      ],
      "execution_count": null,
      "outputs": [
        {
          "output_type": "stream",
          "name": "stdout",
          "text": [
            "Негативный отзыв.txt добавлен в обучающую выборку\n",
            "Позитивный отзыв.txt добавлен в обучающую выборку\n"
          ]
        }
      ]
    },
    {
      "cell_type": "code",
      "metadata": {
        "id": "rvvdNpt40jRY",
        "colab": {
          "base_uri": "https://localhost:8080/"
        },
        "outputId": "3a4fb7d5-62b9-40d9-9cb1-94f12b104031"
      },
      "source": [
        "# Узнаем объём каждого текста в словах и символах\n",
        "texts_len = [len(text) for text in texts_list]\n",
        "\n",
        "# Устанавливаем \"счётчик\" номера текста\n",
        "t_num = 0\n",
        "\n",
        "# Выводим на экран  информационное сообщение\n",
        "print(f'Размеры текстов по порядку (в токенах):')\n",
        "\n",
        "# Циклом проводим итерацию по списку с объёмами текстов\n",
        "for text_len in texts_len:\n",
        "\n",
        "  # Запускаем \"счётчик\" номера текста\n",
        "  t_num += 1\n",
        "  \n",
        "  # Выводим на экран сообщение о номере и объёме текста\n",
        "  print(f'Текст №{t_num}: {text_len}')"
      ],
      "execution_count": null,
      "outputs": [
        {
          "output_type": "stream",
          "name": "stdout",
          "text": [
            "Размеры текстов по порядку (в токенах):\n",
            "Текст №1: 134535\n",
            "Текст №2: 213381\n"
          ]
        }
      ]
    },
    {
      "cell_type": "markdown",
      "metadata": {
        "id": "lpAQS_wB24TT"
      },
      "source": [
        "Далее рассчитаем, сколько символов составит 80% объёма каждого текста, чтобы по полученному индексу отделить эти 80% на обучающую и оставшиеся 20% на проверочную выборку. Эти значения необходимы для подготовки деления на выборки слайсингом по индексу."
      ]
    },
    {
      "cell_type": "code",
      "metadata": {
        "id": "0ur3bkOd3UTQ",
        "colab": {
          "base_uri": "https://localhost:8080/"
        },
        "outputId": "eaac959f-5cbf-48c1-c49b-6948cd74dbb9"
      },
      "source": [
        "# Создаём список с вложенным циклом по длинам текстов, где i - 100% текста, i/5 - 20% текста \n",
        "train_len_shares = [(i - round(i/5)) for i in texts_len]\n",
        "\n",
        "# Устанавливаем \"счётчик\" номера текста\n",
        "t_num = 0\n",
        "\n",
        "text_train = [0,0]\n",
        "text_test = [0,0]\n",
        "\n",
        "\n",
        "# Циклом проводим итерацию по списку с объёмами текстов равными 80% от исходных\n",
        "for train_len_share in train_len_shares:\n",
        "\n",
        "  # Запускаем \"счётчик\" номера текста\n",
        "  t_num += 1\n",
        "  \n",
        "  # Выводим на экран сообщение о номере и объёме текста в 80% от исходного\n",
        "  print(f'Доля 80% от текста №{t_num}: {train_len_share} символов')\n",
        "\n",
        "\n",
        "  text_train[t_num-1] = texts_list[t_num-1][:train_len_share]\n",
        "  text_test[t_num-1] = texts_list[t_num-1][:train_len_share:]\n",
        "\n",
        "\n",
        "\n",
        "\n"
      ],
      "execution_count": null,
      "outputs": [
        {
          "output_type": "stream",
          "name": "stdout",
          "text": [
            "Доля 80% от текста №1: 107628 символов\n",
            "Доля 80% от текста №2: 170705 символов\n"
          ]
        }
      ]
    },
    {
      "cell_type": "markdown",
      "metadata": {
        "id": "rVHFObMz5RsH"
      },
      "source": [
        "Импортируем функцию **chain()** для добавления текстов в каждую выборку.\n",
        "\n",
        "---\n",
        " Дополнительная информация: ([База знаний УИИ  - **\"Методы работы со списками: функция chain( )**\"](https://colab.research.google.com/drive/1KJKg_WYD8Vq63cciOMBEEAhFpyPv0A0V?usp=sharing/))\n",
        "\n",
        "---\n",
        "\n",
        "Производём нарезку (метод слайсинга) по полученному ранее индексу для формирования текстов отдельно для обучающей(80%) и проверочной(20%) выборок:"
      ]
    },
    {
      "cell_type": "code",
      "metadata": {
        "id": "um_NZc9pzAXc"
      },
      "source": [
        "from itertools import chain\n",
        "# Ваше решение"
      ],
      "execution_count": null,
      "outputs": []
    },
    {
      "cell_type": "code",
      "source": [
        "CLASS_LIST = ['Позитивный отзыв', 'Негативный отзыв']\n",
        "for cls in range(len(CLASS_LIST)):\n",
        "  print(f'Класс: {CLASS_LIST[cls]}')\n",
        "  print(f'train: {text_train[cls][:200]}')\n",
        "  print(f'test: {text_test[cls][:200]}')\n",
        "  print()"
      ],
      "metadata": {
        "colab": {
          "base_uri": "https://localhost:8080/"
        },
        "id": "blVK8WriheUT",
        "outputId": "e81d09fc-bd7f-45f9-c1bf-ed733fdacc20"
      },
      "execution_count": null,
      "outputs": [
        {
          "output_type": "stream",
          "name": "stdout",
          "text": [
            "Класс: Позитивный отзыв\n",
            "train: После 170 на трассе она чувствует себя неуверенно.  Кстати сидения очень удобными тоже не назовёшь. ... Это моё личное впечатление об автомобиле. Шляпа, а не авто, все не продумано до мелочей. Пока эт\n",
            "test: После 170 на трассе она чувствует себя неуверенно.  Кстати сидения очень удобными тоже не назовёшь. ... Это моё личное впечатление об автомобиле. Шляпа, а не авто, все не продумано до мелочей. Пока эт\n",
            "\n",
            "Класс: Негативный отзыв\n",
            "train:  Водитель наслаждается от такого авто и вождения  Красивая машина нужно брать  Тесла топ, тащусь от этой тачки Плюсы - зарядка бесплатная.  Машина топ Технологии по автоматизации не стоят на месте! Кр\n",
            "test:  Водитель наслаждается от такого авто и вождения  Красивая машина нужно брать  Тесла топ, тащусь от этой тачки Плюсы - зарядка бесплатная.  Машина топ Технологии по автоматизации не стоят на месте! Кр\n",
            "\n"
          ]
        }
      ]
    },
    {
      "cell_type": "code",
      "source": [
        "# Объем словаря для токенизатора\n",
        "VOCAB_SIZE = 10000\n",
        "\n",
        "# Длина отрезка текста (окна) в словах                        \n",
        "WIN_SIZE   = 1000\n",
        "\n",
        "# Шаг окна разбиения текста на векторы                         \n",
        "WIN_HOP    = 100                          \n",
        "\n",
        "# Токенайзер из Keras для разбиения текста и построения частотного словаря\n",
        "tokenizer = Tokenizer(num_words=VOCAB_SIZE, filters='!\"#$%&()*+,-–—./…:;<=>?@[\\\\]^_`{|}~«»\\t\\n\\xa0\\ufeff', \n",
        "                          lower=True, split=' ', oov_token='неизвестное_слово', char_level=False)"
      ],
      "metadata": {
        "id": "1CqZirXlsKsU"
      },
      "execution_count": null,
      "outputs": []
    },
    {
      "cell_type": "code",
      "source": [
        "# Получаем словарь частотности \n",
        "tokenizer.fit_on_texts(text_train)"
      ],
      "metadata": {
        "id": "n2Fi_hzlsKwY"
      },
      "execution_count": null,
      "outputs": []
    },
    {
      "cell_type": "code",
      "source": [
        "#построение словаря в виде пар слово-индекс\n",
        "items = list(tokenizer.word_index.items())"
      ],
      "metadata": {
        "id": "oH-HM2w_sK13"
      },
      "execution_count": null,
      "outputs": []
    },
    {
      "cell_type": "code",
      "source": [
        "#Вывод нескольких наиболее часто встречающихся слов\n",
        "print(items[:20])"
      ],
      "metadata": {
        "colab": {
          "base_uri": "https://localhost:8080/"
        },
        "id": "O5aQd2bcheXI",
        "outputId": "72a14aa7-637e-49c4-93c5-668b95ad665e"
      },
      "execution_count": null,
      "outputs": [
        {
          "output_type": "stream",
          "name": "stdout",
          "text": [
            "[('неизвестное_слово', 1), ('и', 2), ('в', 3), ('не', 4), ('на', 5), ('это', 6), ('что', 7), ('с', 8), ('тесла', 9), ('за', 10), ('а', 11), ('как', 12), ('у', 13), ('машина', 14), ('я', 15), ('по', 16), ('для', 17), ('но', 18), ('то', 19), ('очень', 20)]\n"
          ]
        }
      ]
    },
    {
      "cell_type": "code",
      "source": [
        "#Преобразуйте обучающие и проверочные тексты в последовательность индексов согласно частотному словарю Токенайзера:\n",
        "seq_train = tokenizer.texts_to_sequences(text_train)\n",
        "seq_test = tokenizer.texts_to_sequences(text_test)"
      ],
      "metadata": {
        "id": "07_MZRvHheaT"
      },
      "execution_count": null,
      "outputs": []
    },
    {
      "cell_type": "code",
      "source": [
        "#Функция деления последовательности индексов на отрезки скользящим окном"
      ],
      "metadata": {
        "id": "8LpsvDWqhedD"
      },
      "execution_count": null,
      "outputs": []
    },
    {
      "cell_type": "code",
      "source": [
        "def split_sequence(sequence,   # Последовательность индексов\n",
        "                   win_size,   # Размер окна для деления на примеры\n",
        "                   hop):       # Шаг окна\n",
        "\n",
        "    # Последовательность разбивается на части до последнего полного окна\n",
        "    return [sequence[i:i + win_size] for i in range(0, len(sequence) - win_size + 1, hop)]"
      ],
      "metadata": {
        "id": "GMTCiFJchegN"
      },
      "execution_count": null,
      "outputs": []
    },
    {
      "cell_type": "code",
      "source": [
        "#Функция формирования выборок из индексов и соответствующих классам меток в формате One Hot Encoding"
      ],
      "metadata": {
        "id": "_x70i1vk2Y_u"
      },
      "execution_count": null,
      "outputs": []
    },
    {
      "cell_type": "code",
      "source": [
        "def vectorize_sequence(seq_list,    # Список последовательностей индексов \n",
        "                       win_size,    # Размер окна для деления на примеры\n",
        "                       hop):        # Шаг окна\n",
        "\n",
        "    # В списке последовательности следуют в порядке их классов (их кол-во сповпадает с кол-вом классов)\n",
        "    class_count = len(seq_list)\n",
        "\n",
        "    # Списки для исходных векторов и категориальных меток класса\n",
        "    x, y = [], []\n",
        "\n",
        "    # Для каждого класса:\n",
        "    for cls in range(class_count):\n",
        "\n",
        "        # Разбиение последовательности класса cls на отрезки\n",
        "        vectors = split_sequence(seq_list[cls], win_size, hop)\n",
        "\n",
        "        # Добавление отрезков в выборку\n",
        "\n",
        "        x += vectors\n",
        "        \n",
        "        # Для всех отрезков класса cls добавление меток класса в виде OHE\n",
        "        y += [utils.to_categorical(cls, class_count)] * len(vectors)\n",
        "\n",
        "    # Возврат результатов как numpy-массивов\n",
        "    return np.array(x), np.array(y)"
      ],
      "metadata": {
        "id": "t7qdmrSt2ZDQ"
      },
      "execution_count": null,
      "outputs": []
    },
    {
      "cell_type": "code",
      "source": [
        "# Формирование обучающей выборки\n",
        "x_train, y_train = vectorize_sequence(seq_train, WIN_SIZE, WIN_HOP) \n",
        "# Формирование тестовой выборки\n",
        "x_test, y_test = vectorize_sequence(seq_test, WIN_SIZE, WIN_HOP)\n",
        "\n",
        "# Проверка формы сформированных данных\n",
        "print(x_train.shape, y_train.shape)\n",
        "print(x_test.shape, y_test.shape)"
      ],
      "metadata": {
        "colab": {
          "base_uri": "https://localhost:8080/"
        },
        "id": "OwDEmDyJ2ZGF",
        "outputId": "614e8ac3-8b23-4413-e48b-f359908a7dc6"
      },
      "execution_count": null,
      "outputs": [
        {
          "output_type": "stream",
          "name": "stdout",
          "text": [
            "(408, 1000) (408, 2)\n",
            "(408, 1000) (408, 2)\n"
          ]
        }
      ]
    },
    {
      "cell_type": "code",
      "source": [
        "# На входе .sequences_to_matrix() ожидает список, .tolist() выполняет преобразование к типу данных 'список'\n",
        "x_train_01 = tokenizer.sequences_to_matrix(x_train.tolist())\n",
        "x_test_01 = tokenizer.sequences_to_matrix(x_test.tolist())\n",
        "\n",
        "# Выводим форму обучающей выборки в виде матрицы Bag of Words\n",
        "print(x_train_01.shape)       \n",
        "# Выводим фрагмент отрезка обучающего текста в виде Bag of Words\n",
        "print(x_train_01[0][0:100])"
      ],
      "metadata": {
        "colab": {
          "base_uri": "https://localhost:8080/"
        },
        "id": "rk8U0m6j29UA",
        "outputId": "ec49a79a-eec1-435e-b21e-6083f6a7128c"
      },
      "execution_count": null,
      "outputs": [
        {
          "output_type": "stream",
          "name": "stdout",
          "text": [
            "(408, 10000)\n",
            "[0. 0. 1. 1. 1. 1. 1. 1. 1. 1. 1. 1. 1. 1. 1. 1. 1. 1. 0. 1. 1. 1. 1. 1.\n",
            " 1. 1. 1. 1. 0. 1. 1. 1. 1. 1. 1. 1. 1. 1. 1. 0. 1. 1. 1. 1. 1. 1. 1. 1.\n",
            " 0. 1. 1. 1. 1. 1. 1. 1. 1. 1. 1. 1. 1. 1. 1. 1. 1. 1. 0. 0. 0. 1. 1. 1.\n",
            " 1. 1. 1. 0. 1. 1. 0. 1. 1. 0. 1. 1. 0. 0. 1. 1. 1. 1. 1. 1. 1. 1. 1. 0.\n",
            " 0. 0. 1. 1.]\n"
          ]
        }
      ]
    },
    {
      "cell_type": "code",
      "source": [
        "#Функция компиляции и обучения модели нейронной сети"
      ],
      "metadata": {
        "id": "CLnHrBbE4KGe"
      },
      "execution_count": null,
      "outputs": []
    },
    {
      "cell_type": "code",
      "source": [
        "def compile_train_model(model,\n",
        "                        x_train,\n",
        "                        y_train,\n",
        "                        x_val,\n",
        "                        y_val,\n",
        "                        optimizer='adam',\n",
        "                        epochs=50,\n",
        "                        batch_size=128,\n",
        "                        figsize=(20, 5)):\n",
        "  \n",
        "  model.compile(optimizer=optimizer,                                 # Компиляция модели для обучения на данных вида Bag of Words\n",
        "              loss='categorical_crossentropy', \n",
        "              metrics=['accuracy'])\n",
        "  \n",
        "\n",
        "\n",
        "  model.summary()\n",
        "  \n",
        "  history = model.fit(x_train,                            # Обучающая выборка Bag of Words\n",
        "                      y_train,                               # Метки классов обучающей выборки\n",
        "                      epochs=epochs,                             # Количество эпох\n",
        "                      batch_size=batch_size,                         # Размер подвыборки для одного шага по данным на эпохе\n",
        "                      validation_data=(x_val, y_val))   # Проверочная выборка и метки классов проверочной выборки\n",
        "\n",
        "\n",
        "# Вывод графиков точности и ошибки\n",
        "  fig, (ax1, ax2) = plt.subplots(1, 2, figsize=figsize)\n",
        "  fig.suptitle('График процесса обучения модели')\n",
        "  ax1.plot(history.history['accuracy'],\n",
        "           label='Доля верных ответов на обучающем наборе')\n",
        "  ax1.plot(history.history['val_accuracy'],\n",
        "           label='Доля верных ответов на проверочном наборе')\n",
        "  ax1.xaxis.get_major_locator().set_params(integer=True)\n",
        "  ax1.set_xlabel('Эпоха обучения')\n",
        "  ax1.set_ylabel('Доля верных ответов')\n",
        "  ax1.legend()\n",
        "\n",
        "  ax2.plot(history.history['loss'],\n",
        "           label='Ошибка на обучающем наборе')\n",
        "  ax2.plot(history.history['val_loss'],\n",
        "           label='Ошибка на проверочном наборе')\n",
        "  ax2.xaxis.get_major_locator().set_params(integer=True)\n",
        "  ax2.set_xlabel('Эпоха обучения')\n",
        "  ax2.set_ylabel('Ошибка')\n",
        "  ax2.legend()\n",
        "  plt.show()\n"
      ],
      "metadata": {
        "id": "plYbItnz4KKX"
      },
      "execution_count": null,
      "outputs": []
    },
    {
      "cell_type": "code",
      "source": [
        "# Функция вывода результатов оценки модели на заданных данных\n",
        "def eval_model(model, x, y_true,\n",
        "               class_labels=[],\n",
        "               cm_round=3,\n",
        "               title='',\n",
        "               figsize=(10, 10)):\n",
        "    # Вычисление предсказания сети\n",
        "    y_pred = model.predict(x)\n",
        "    # Построение матрицы ошибок\n",
        "    cm = confusion_matrix(np.argmax(y_true, axis=1),\n",
        "                          np.argmax(y_pred, axis=1),\n",
        "                          normalize='true')\n",
        "    # Округление значений матрицы ошибок\n",
        "    cm = np.around(cm, cm_round)\n",
        "\n",
        "    # Отрисовка матрицы ошибок\n",
        "    fig, ax = plt.subplots(figsize=figsize)\n",
        "    ax.set_title(f'Нейросеть {title}: матрица ошибок нормализованная', fontsize=18)\n",
        "    disp = ConfusionMatrixDisplay(confusion_matrix=cm, display_labels=class_labels)\n",
        "    disp.plot(ax=ax)\n",
        "    plt.gca().images[-1].colorbar.remove()  # Стирание ненужной цветовой шкалы\n",
        "    plt.xlabel('Предсказанные классы', fontsize=16)\n",
        "    plt.ylabel('Верные классы', fontsize=16)\n",
        "    fig.autofmt_xdate(rotation=45)          # Наклон меток горизонтальной оси при необходимости\n",
        "    plt.show()    \n",
        "\n",
        "    print('-'*100)\n",
        "    print(f'Нейросеть: {title}')\n",
        "\n",
        "    # Для каждого класса:\n",
        "    for cls in range(len(class_labels)):\n",
        "        # Определяется индекс класса с максимальным значением предсказания (уверенности)\n",
        "        cls_pred = np.argmax(cm[cls])\n",
        "        # Формируется сообщение о верности или неверности предсказания\n",
        "        msg = 'ВЕРНО :-)' if cls_pred == cls else 'НЕВЕРНО :-('\n",
        "        # Выводится текстовая информация о предсказанном классе и значении уверенности\n",
        "        print('Класс: {:<20} {:3.0f}% сеть отнесла к классу {:<20} - {}'.format(class_labels[cls],\n",
        "                                                                               100. * cm[cls, cls_pred],\n",
        "                                                                               class_labels[cls_pred],\n",
        "                                                                               msg))\n",
        "\n",
        "    # Средняя точность распознавания определяется как среднее диагональных элементов матрицы ошибок\n",
        "    accu = '\\nСредняя точность распознавания: {:3.0f}%'.format(100. * cm.diagonal().mean())\n",
        "    print('\\n'+ accu)\n"
      ],
      "metadata": {
        "id": "Jof6WSlM40Un"
      },
      "execution_count": null,
      "outputs": []
    },
    {
      "cell_type": "code",
      "source": [
        "# Совместная функция обучения и оценки модели нейронной сети\n",
        "def compile_train_eval_model(model, \n",
        "                             x_train,\n",
        "                             y_train,\n",
        "                             x_test,\n",
        "                             y_test,\n",
        "                             class_labels=CLASS_LIST,\n",
        "                             title='',\n",
        "                             optimizer='adam',\n",
        "                             epochs=50,\n",
        "                             batch_size=128,\n",
        "                             graph_size=(20, 5),\n",
        "                             cm_size=(10, 10)):\n",
        "\n",
        "    # Компиляция и обучение модели на заданных параметрах\n",
        "    # В качестве проверочных используются тестовые данные\n",
        "    compile_train_model(model, \n",
        "                        x_train, y_train,\n",
        "                        x_test, y_test,\n",
        "                        optimizer=optimizer,\n",
        "                        epochs=epochs,\n",
        "                        batch_size=batch_size,\n",
        "                        figsize=graph_size)\n",
        "\n",
        "    # Вывод результатов оценки работы модели на тестовых данных\n",
        "    eval_model(model, x_test, y_test, \n",
        "               class_labels=class_labels, \n",
        "               title=title,\n",
        "               figsize=cm_size)\n",
        "    \n"
      ],
      "metadata": {
        "id": "DhkIdLv0AXPj"
      },
      "execution_count": null,
      "outputs": []
    },
    {
      "cell_type": "code",
      "source": [
        "#Создаём линейную модель сети для обучения на Bag OF Words:"
      ],
      "metadata": {
        "id": "LZxLvR9oAXTN"
      },
      "execution_count": null,
      "outputs": []
    },
    {
      "cell_type": "code",
      "source": [
        "model_BoW = Sequential()                                            # Создание последовательной модели нейросети\n",
        "model_BoW.add(Dense(184, input_dim=VOCAB_SIZE, activation=\"relu\"))  # Первый полносвязный слой\n",
        "model_BoW.add(Dense(86, activation=\"relu\"))                         # Второй полносвязный слой\n",
        "model_BoW.add(Dense(33, activation=\"relu\"))                         # Третий полносвязный слой\n",
        "model_BoW.add(BatchNormalization())                                 # Слой пакетной нормализации\n",
        "model_BoW.add(Dropout(0.1))                                         # Слой регуляризации Dropout\n",
        "model_BoW.add(Dense(2, activation='softmax'))                       # Выходной полносвязный слой\n",
        "\n",
        "compile_train_eval_model(model_BoW,\n",
        "                         x_train_01, y_train,\n",
        "                         x_test_01, y_test,\n",
        "                         class_labels=CLASS_LIST,\n",
        "                         title='BoW')"
      ],
      "metadata": {
        "colab": {
          "base_uri": "https://localhost:8080/",
          "height": 1000
        },
        "id": "Bmb9D5YxAXWY",
        "outputId": "b1532aa6-4803-4f98-af76-15a9ed96c229"
      },
      "execution_count": null,
      "outputs": [
        {
          "output_type": "stream",
          "name": "stdout",
          "text": [
            "Model: \"sequential_2\"\n",
            "_________________________________________________________________\n",
            " Layer (type)                Output Shape              Param #   \n",
            "=================================================================\n",
            " dense_8 (Dense)             (None, 184)               1840184   \n",
            "                                                                 \n",
            " dense_9 (Dense)             (None, 86)                15910     \n",
            "                                                                 \n",
            " dense_10 (Dense)            (None, 33)                2871      \n",
            "                                                                 \n",
            " batch_normalization_2 (Batc  (None, 33)               132       \n",
            " hNormalization)                                                 \n",
            "                                                                 \n",
            " dropout_2 (Dropout)         (None, 33)                0         \n",
            "                                                                 \n",
            " dense_11 (Dense)            (None, 2)                 68        \n",
            "                                                                 \n",
            "=================================================================\n",
            "Total params: 1,859,165\n",
            "Trainable params: 1,859,099\n",
            "Non-trainable params: 66\n",
            "_________________________________________________________________\n",
            "Epoch 1/50\n",
            "4/4 [==============================] - 1s 113ms/step - loss: 0.3341 - accuracy: 0.8382 - val_loss: 0.0778 - val_accuracy: 1.0000\n",
            "Epoch 2/50\n",
            "4/4 [==============================] - 0s 47ms/step - loss: 0.0195 - accuracy: 1.0000 - val_loss: 0.0142 - val_accuracy: 1.0000\n",
            "Epoch 3/50\n",
            "4/4 [==============================] - 0s 55ms/step - loss: 0.0141 - accuracy: 1.0000 - val_loss: 0.0035 - val_accuracy: 1.0000\n",
            "Epoch 4/50\n",
            "4/4 [==============================] - 0s 54ms/step - loss: 0.0081 - accuracy: 1.0000 - val_loss: 0.0012 - val_accuracy: 1.0000\n",
            "Epoch 5/50\n",
            "4/4 [==============================] - 0s 50ms/step - loss: 0.0070 - accuracy: 1.0000 - val_loss: 5.0959e-04 - val_accuracy: 1.0000\n",
            "Epoch 6/50\n",
            "4/4 [==============================] - 0s 50ms/step - loss: 0.0052 - accuracy: 1.0000 - val_loss: 2.8686e-04 - val_accuracy: 1.0000\n",
            "Epoch 7/50\n",
            "4/4 [==============================] - 0s 48ms/step - loss: 0.0045 - accuracy: 1.0000 - val_loss: 1.9498e-04 - val_accuracy: 1.0000\n",
            "Epoch 8/50\n",
            "4/4 [==============================] - 0s 51ms/step - loss: 0.0048 - accuracy: 1.0000 - val_loss: 1.4418e-04 - val_accuracy: 1.0000\n",
            "Epoch 9/50\n",
            "4/4 [==============================] - 0s 50ms/step - loss: 0.0043 - accuracy: 1.0000 - val_loss: 1.1339e-04 - val_accuracy: 1.0000\n",
            "Epoch 10/50\n",
            "4/4 [==============================] - 0s 53ms/step - loss: 0.0036 - accuracy: 1.0000 - val_loss: 9.6448e-05 - val_accuracy: 1.0000\n",
            "Epoch 11/50\n",
            "4/4 [==============================] - 0s 52ms/step - loss: 0.0026 - accuracy: 1.0000 - val_loss: 8.6401e-05 - val_accuracy: 1.0000\n",
            "Epoch 12/50\n",
            "4/4 [==============================] - 0s 45ms/step - loss: 0.0025 - accuracy: 1.0000 - val_loss: 7.9554e-05 - val_accuracy: 1.0000\n",
            "Epoch 13/50\n",
            "4/4 [==============================] - 0s 47ms/step - loss: 0.0023 - accuracy: 1.0000 - val_loss: 7.5058e-05 - val_accuracy: 1.0000\n",
            "Epoch 14/50\n",
            "4/4 [==============================] - 0s 45ms/step - loss: 0.0024 - accuracy: 1.0000 - val_loss: 7.1059e-05 - val_accuracy: 1.0000\n",
            "Epoch 15/50\n",
            "4/4 [==============================] - 0s 48ms/step - loss: 0.0018 - accuracy: 1.0000 - val_loss: 6.8126e-05 - val_accuracy: 1.0000\n",
            "Epoch 16/50\n",
            "4/4 [==============================] - 0s 45ms/step - loss: 0.0020 - accuracy: 1.0000 - val_loss: 6.5860e-05 - val_accuracy: 1.0000\n",
            "Epoch 17/50\n",
            "4/4 [==============================] - 0s 51ms/step - loss: 0.0020 - accuracy: 1.0000 - val_loss: 6.2693e-05 - val_accuracy: 1.0000\n",
            "Epoch 18/50\n",
            "4/4 [==============================] - 0s 48ms/step - loss: 0.0016 - accuracy: 1.0000 - val_loss: 5.9310e-05 - val_accuracy: 1.0000\n",
            "Epoch 19/50\n",
            "4/4 [==============================] - 0s 46ms/step - loss: 0.0015 - accuracy: 1.0000 - val_loss: 5.6745e-05 - val_accuracy: 1.0000\n",
            "Epoch 20/50\n",
            "4/4 [==============================] - 0s 47ms/step - loss: 0.0016 - accuracy: 1.0000 - val_loss: 5.4868e-05 - val_accuracy: 1.0000\n",
            "Epoch 21/50\n",
            "4/4 [==============================] - 0s 50ms/step - loss: 0.0012 - accuracy: 1.0000 - val_loss: 5.3852e-05 - val_accuracy: 1.0000\n",
            "Epoch 22/50\n",
            "4/4 [==============================] - 0s 50ms/step - loss: 0.0012 - accuracy: 1.0000 - val_loss: 5.3528e-05 - val_accuracy: 1.0000\n",
            "Epoch 23/50\n",
            "4/4 [==============================] - 0s 58ms/step - loss: 0.0013 - accuracy: 1.0000 - val_loss: 5.3385e-05 - val_accuracy: 1.0000\n",
            "Epoch 24/50\n",
            "4/4 [==============================] - 0s 48ms/step - loss: 0.0012 - accuracy: 1.0000 - val_loss: 5.2540e-05 - val_accuracy: 1.0000\n",
            "Epoch 25/50\n",
            "4/4 [==============================] - 0s 47ms/step - loss: 8.9693e-04 - accuracy: 1.0000 - val_loss: 5.1089e-05 - val_accuracy: 1.0000\n",
            "Epoch 26/50\n",
            "4/4 [==============================] - 0s 47ms/step - loss: 0.0012 - accuracy: 1.0000 - val_loss: 5.0373e-05 - val_accuracy: 1.0000\n",
            "Epoch 27/50\n",
            "4/4 [==============================] - 0s 46ms/step - loss: 9.8909e-04 - accuracy: 1.0000 - val_loss: 4.9579e-05 - val_accuracy: 1.0000\n",
            "Epoch 28/50\n",
            "4/4 [==============================] - 0s 51ms/step - loss: 8.3547e-04 - accuracy: 1.0000 - val_loss: 4.9569e-05 - val_accuracy: 1.0000\n",
            "Epoch 29/50\n",
            "4/4 [==============================] - 0s 46ms/step - loss: 0.0012 - accuracy: 1.0000 - val_loss: 4.9539e-05 - val_accuracy: 1.0000\n",
            "Epoch 30/50\n",
            "4/4 [==============================] - 0s 50ms/step - loss: 8.4141e-04 - accuracy: 1.0000 - val_loss: 4.9895e-05 - val_accuracy: 1.0000\n",
            "Epoch 31/50\n",
            "4/4 [==============================] - 0s 52ms/step - loss: 6.9221e-04 - accuracy: 1.0000 - val_loss: 5.0377e-05 - val_accuracy: 1.0000\n",
            "Epoch 32/50\n",
            "4/4 [==============================] - 0s 52ms/step - loss: 7.1030e-04 - accuracy: 1.0000 - val_loss: 5.1218e-05 - val_accuracy: 1.0000\n",
            "Epoch 33/50\n",
            "4/4 [==============================] - 0s 53ms/step - loss: 7.0141e-04 - accuracy: 1.0000 - val_loss: 5.1820e-05 - val_accuracy: 1.0000\n",
            "Epoch 34/50\n",
            "4/4 [==============================] - 0s 50ms/step - loss: 8.3818e-04 - accuracy: 1.0000 - val_loss: 5.1640e-05 - val_accuracy: 1.0000\n",
            "Epoch 35/50\n",
            "4/4 [==============================] - 0s 52ms/step - loss: 0.0014 - accuracy: 1.0000 - val_loss: 5.1045e-05 - val_accuracy: 1.0000\n",
            "Epoch 36/50\n",
            "4/4 [==============================] - 0s 51ms/step - loss: 5.6817e-04 - accuracy: 1.0000 - val_loss: 4.9393e-05 - val_accuracy: 1.0000\n",
            "Epoch 37/50\n",
            "4/4 [==============================] - 0s 49ms/step - loss: 7.3517e-04 - accuracy: 1.0000 - val_loss: 4.8515e-05 - val_accuracy: 1.0000\n",
            "Epoch 38/50\n",
            "4/4 [==============================] - 0s 52ms/step - loss: 5.6714e-04 - accuracy: 1.0000 - val_loss: 4.7142e-05 - val_accuracy: 1.0000\n",
            "Epoch 39/50\n",
            "4/4 [==============================] - 0s 49ms/step - loss: 5.4599e-04 - accuracy: 1.0000 - val_loss: 4.6078e-05 - val_accuracy: 1.0000\n",
            "Epoch 40/50\n",
            "4/4 [==============================] - 0s 58ms/step - loss: 5.5604e-04 - accuracy: 1.0000 - val_loss: 4.5703e-05 - val_accuracy: 1.0000\n",
            "Epoch 41/50\n",
            "4/4 [==============================] - 0s 46ms/step - loss: 4.5896e-04 - accuracy: 1.0000 - val_loss: 4.6158e-05 - val_accuracy: 1.0000\n",
            "Epoch 42/50\n",
            "4/4 [==============================] - 0s 51ms/step - loss: 5.3163e-04 - accuracy: 1.0000 - val_loss: 4.6369e-05 - val_accuracy: 1.0000\n",
            "Epoch 43/50\n",
            "4/4 [==============================] - 0s 46ms/step - loss: 4.5283e-04 - accuracy: 1.0000 - val_loss: 4.6153e-05 - val_accuracy: 1.0000\n",
            "Epoch 44/50\n",
            "4/4 [==============================] - 0s 54ms/step - loss: 5.0588e-04 - accuracy: 1.0000 - val_loss: 4.5613e-05 - val_accuracy: 1.0000\n",
            "Epoch 45/50\n",
            "4/4 [==============================] - 0s 53ms/step - loss: 4.1728e-04 - accuracy: 1.0000 - val_loss: 4.6149e-05 - val_accuracy: 1.0000\n",
            "Epoch 46/50\n",
            "4/4 [==============================] - 0s 51ms/step - loss: 3.8536e-04 - accuracy: 1.0000 - val_loss: 4.6818e-05 - val_accuracy: 1.0000\n",
            "Epoch 47/50\n",
            "4/4 [==============================] - 0s 50ms/step - loss: 4.1593e-04 - accuracy: 1.0000 - val_loss: 4.7727e-05 - val_accuracy: 1.0000\n",
            "Epoch 48/50\n",
            "4/4 [==============================] - 0s 46ms/step - loss: 5.9561e-04 - accuracy: 1.0000 - val_loss: 4.8315e-05 - val_accuracy: 1.0000\n",
            "Epoch 49/50\n",
            "4/4 [==============================] - 0s 53ms/step - loss: 3.6180e-04 - accuracy: 1.0000 - val_loss: 4.8464e-05 - val_accuracy: 1.0000\n",
            "Epoch 50/50\n",
            "4/4 [==============================] - 0s 46ms/step - loss: 5.0248e-04 - accuracy: 1.0000 - val_loss: 4.8842e-05 - val_accuracy: 1.0000\n"
          ]
        },
        {
          "output_type": "display_data",
          "data": {
            "text/plain": [
              "<Figure size 1440x360 with 2 Axes>"
            ],
            "image/png": "[encoded data removed]"
          },
          "metadata": {
            "needs_background": "light"
          }
        },
        {
          "output_type": "stream",
          "name": "stdout",
          "text": [
            "13/13 [==============================] - 0s 6ms/step\n"
          ]
        },
        {
          "output_type": "display_data",
          "data": {
            "text/plain": [
              "<Figure size 720x720 with 1 Axes>"
            ],
            "image/png": "[encoded data removed]"
          },
          "metadata": {
            "needs_background": "light"
          }
        },
        {
          "output_type": "stream",
          "name": "stdout",
          "text": [
            "----------------------------------------------------------------------------------------------------\n",
            "Нейросеть: BoW\n",
            "Класс: Позитивный отзыв     100% сеть отнесла к классу Позитивный отзыв     - ВЕРНО :-)\n",
            "Класс: Негативный отзыв     100% сеть отнесла к классу Негативный отзыв     - ВЕРНО :-)\n",
            "\n",
            "\n",
            "Средняя точность распознавания: 100%\n"
          ]
        }
      ]
    },
    {
      "cell_type": "code",
      "source": [],
      "metadata": {
        "id": "1mAztdzk40Ye"
      },
      "execution_count": null,
      "outputs": []
    },
    {
      "cell_type": "code",
      "source": [],
      "metadata": {
        "id": "yLs3WM-y2ZIz"
      },
      "execution_count": null,
      "outputs": []
    }
  ]
}